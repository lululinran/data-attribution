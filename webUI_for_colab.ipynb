{
  "cells": [
    {
      "cell_type": "markdown",
      "metadata": {
        "id": "view-in-github",
        "colab_type": "text"
      },
      "source": [
        "<a href=\"https://colab.research.google.com/github/lululinran/data-attribution/blob/main/webUI_for_colab.ipynb\" target=\"_parent\"><img src=\"https://colab.research.google.com/assets/colab-badge.svg\" alt=\"Open In Colab\"/></a>"
      ]
    },
    {
      "cell_type": "markdown",
      "metadata": {
        "id": "9Rsiyv_jnsQX"
      },
      "source": [
        "# Music-Source-Separation-Training-Inference-Webui For Google Colab\n",
        "\n",
        "LICENSE: AGPL-3.0\n",
        "\n",
        "For personal entertainment and non-commercial use only. Prohibited from use in content related to blood, gore, violence, sex, politics.<br>\n",
        "Author: [Github@KitsuneX07](https://github.com/KitsuneX07) | [Github@SUC-DriverOld](https://github.com/SUC-DriverOld) | Gradio theme: [Gradio Theme](https://huggingface.co/spaces/NoCrypt/miku)<br>\n",
        "Github: [https://github.com/SUC-DriverOld/MSST-WebUI](https://github.com/SUC-DriverOld/MSST-WebUI)\n",
        "\n",
        "## Introduction\n",
        "\n",
        "This is a webUI for [Music-Source-Separation-Training (MSST)](https://github.com/ZFTurbo/Music-Source-Separation-Training), which is a repository for training models for music source separation. You can use this webUI to infer the MSST model and VR Models, and the preset process page allows you to customize the processing flow yourself. You can install models in the \"Install Models\" interface. If you have downloaded [Ultimate Vocal Remover (UVR)](https://github.com/Anjok07/ultimatevocalremovergui) before, you do not need to download VR Models again. You can go to the \"Settings\" page and directly select your UVR5 model folder. We also provide some convenient tools in the WebUI such as [Singing-Oriented MIDI Extractor (SOME)](https://github.com/openvpi/SOME/), advanced ensemble mode, and more."
      ]
    },
    {
      "cell_type": "code",
      "execution_count": 2,
      "metadata": {
        "id": "u2Kz2y9CnsQa",
        "outputId": "db555bcd-9fce-4588-b6a6-9aecd0d8e1e5",
        "colab": {
          "base_uri": "https://localhost:8080/"
        }
      },
      "outputs": [
        {
          "output_type": "stream",
          "name": "stdout",
          "text": [
            "/bin/bash: line 1: nvidia-smi: command not found\n"
          ]
        }
      ],
      "source": [
        "#@title Connect to colab runtime and check GPU\n",
        "#@markdown # Connect to colab runtime and check GPU\n",
        "#@markdown\n",
        "\n",
        "!nvidia-smi"
      ]
    },
    {
      "cell_type": "code",
      "execution_count": 3,
      "metadata": {
        "id": "tVPuv19_nsQc",
        "outputId": "2e93babc-eedd-4e7f-c2cd-506b01c12a2a",
        "colab": {
          "base_uri": "https://localhost:8080/"
        }
      },
      "outputs": [
        {
          "output_type": "stream",
          "name": "stdout",
          "text": [
            "Reading package lists... Done\n",
            "Building dependency tree... Done\n",
            "Reading state information... Done\n",
            "python3.10 is already the newest version (3.10.12-1~22.04.9).\n",
            "python3.10 set to manually installed.\n",
            "0 upgraded, 0 newly installed, 0 to remove and 34 not upgraded.\n",
            "Reading package lists... Done\n",
            "Building dependency tree... Done\n",
            "Reading state information... Done\n",
            "ffmpeg is already the newest version (7:4.4.2-0ubuntu0.22.04.1).\n",
            "0 upgraded, 0 newly installed, 0 to remove and 34 not upgraded.\n"
          ]
        }
      ],
      "source": [
        "#@title Install python 3.10, ffmpeg\n",
        "#@markdown # Install python 3.10, ffmpeg\n",
        "#@markdown\n",
        "\n",
        "!sudo apt install python3.10\n",
        "!sudo apt install ffmpeg"
      ]
    },
    {
      "cell_type": "code",
      "execution_count": null,
      "metadata": {
        "id": "0D8v-Ag2nsQd",
        "outputId": "d2951bbe-01c0-4727-b2b0-70754f6a3925",
        "colab": {
          "base_uri": "https://localhost:8080/",
          "height": 1000
        }
      },
      "outputs": [
        {
          "output_type": "stream",
          "name": "stdout",
          "text": [
            "/content\n",
            "Cloning into 'MSST-WebUI'...\n",
            "remote: Enumerating objects: 3185, done.\u001b[K\n",
            "remote: Counting objects: 100% (154/154), done.\u001b[K\n",
            "remote: Compressing objects: 100% (97/97), done.\u001b[K\n",
            "remote: Total 3185 (delta 85), reused 60 (delta 57), pack-reused 3031 (from 2)\u001b[K\n",
            "Receiving objects: 100% (3185/3185), 3.00 MiB | 16.07 MiB/s, done.\n",
            "Resolving deltas: 100% (2180/2180), done.\n",
            "/content/MSST-WebUI\n",
            "Requirement already satisfied: pip in /usr/local/lib/python3.11/dist-packages (24.1.2)\n",
            "Collecting pip\n",
            "  Downloading pip-25.0.1-py3-none-any.whl.metadata (3.7 kB)\n",
            "Requirement already satisfied: setuptools in /usr/local/lib/python3.11/dist-packages (75.2.0)\n",
            "Collecting setuptools\n",
            "  Downloading setuptools-79.0.1-py3-none-any.whl.metadata (6.5 kB)\n",
            "Downloading pip-25.0.1-py3-none-any.whl (1.8 MB)\n",
            "\u001b[2K   \u001b[90m━━━━━━━━━━━━━━━━━━━━━━━━━━━━━━━━━━━━━━━━\u001b[0m \u001b[32m1.8/1.8 MB\u001b[0m \u001b[31m20.0 MB/s\u001b[0m eta \u001b[36m0:00:00\u001b[0m\n",
            "\u001b[?25hDownloading setuptools-79.0.1-py3-none-any.whl (1.3 MB)\n",
            "\u001b[2K   \u001b[90m━━━━━━━━━━━━━━━━━━━━━━━━━━━━━━━━━━━━━━━━\u001b[0m \u001b[32m1.3/1.3 MB\u001b[0m \u001b[31m52.1 MB/s\u001b[0m eta \u001b[36m0:00:00\u001b[0m\n",
            "\u001b[?25hInstalling collected packages: setuptools, pip\n",
            "  Attempting uninstall: setuptools\n",
            "    Found existing installation: setuptools 75.2.0\n",
            "    Uninstalling setuptools-75.2.0:\n",
            "      Successfully uninstalled setuptools-75.2.0\n",
            "  Attempting uninstall: pip\n",
            "    Found existing installation: pip 24.1.2\n",
            "    Uninstalling pip-24.1.2:\n",
            "      Successfully uninstalled pip-24.1.2\n",
            "\u001b[31mERROR: pip's dependency resolver does not currently take into account all the packages that are installed. This behaviour is the source of the following dependency conflicts.\n",
            "ipython 7.34.0 requires jedi>=0.16, which is not installed.\u001b[0m\u001b[31m\n",
            "\u001b[0mSuccessfully installed pip-25.0.1 setuptools-79.0.1\n"
          ]
        },
        {
          "output_type": "display_data",
          "data": {
            "application/vnd.colab-display-data+json": {
              "pip_warning": {
                "packages": [
                  "_distutils_hack"
                ]
              },
              "id": "221ae576fdd34cd7b62a0b3fded19d51"
            }
          },
          "metadata": {}
        },
        {
          "output_type": "stream",
          "name": "stdout",
          "text": [
            "Processing ./tools/webUI_for_clouds/librosa-0.9.2-py3-none-any.whl\n",
            "Requirement already satisfied: audioread>=2.1.9 in /usr/local/lib/python3.11/dist-packages (from librosa==0.9.2) (3.0.1)\n",
            "Requirement already satisfied: numpy>=1.17.0 in /usr/local/lib/python3.11/dist-packages (from librosa==0.9.2) (2.0.2)\n",
            "Requirement already satisfied: scipy>=1.2.0 in /usr/local/lib/python3.11/dist-packages (from librosa==0.9.2) (1.14.1)\n",
            "Requirement already satisfied: scikit-learn>=0.19.1 in /usr/local/lib/python3.11/dist-packages (from librosa==0.9.2) (1.6.1)\n",
            "Requirement already satisfied: joblib>=0.14 in /usr/local/lib/python3.11/dist-packages (from librosa==0.9.2) (1.4.2)\n",
            "Requirement already satisfied: decorator>=4.0.10 in /usr/local/lib/python3.11/dist-packages (from librosa==0.9.2) (4.4.2)\n",
            "Collecting resampy>=0.2.2 (from librosa==0.9.2)\n",
            "  Downloading resampy-0.4.3-py3-none-any.whl.metadata (3.0 kB)\n",
            "Requirement already satisfied: numba>=0.45.1 in /usr/local/lib/python3.11/dist-packages (from librosa==0.9.2) (0.60.0)\n",
            "Requirement already satisfied: soundfile>=0.10.2 in /usr/local/lib/python3.11/dist-packages (from librosa==0.9.2) (0.13.1)\n",
            "Requirement already satisfied: pooch>=1.0 in /usr/local/lib/python3.11/dist-packages (from librosa==0.9.2) (1.8.2)\n",
            "Requirement already satisfied: packaging>=20.0 in /usr/local/lib/python3.11/dist-packages (from librosa==0.9.2) (24.2)\n",
            "Requirement already satisfied: llvmlite<0.44,>=0.43.0dev0 in /usr/local/lib/python3.11/dist-packages (from numba>=0.45.1->librosa==0.9.2) (0.43.0)\n",
            "Requirement already satisfied: platformdirs>=2.5.0 in /usr/local/lib/python3.11/dist-packages (from pooch>=1.0->librosa==0.9.2) (4.3.7)\n",
            "Requirement already satisfied: requests>=2.19.0 in /usr/local/lib/python3.11/dist-packages (from pooch>=1.0->librosa==0.9.2) (2.32.3)\n",
            "Requirement already satisfied: threadpoolctl>=3.1.0 in /usr/local/lib/python3.11/dist-packages (from scikit-learn>=0.19.1->librosa==0.9.2) (3.6.0)\n",
            "Requirement already satisfied: cffi>=1.0 in /usr/local/lib/python3.11/dist-packages (from soundfile>=0.10.2->librosa==0.9.2) (1.17.1)\n",
            "Requirement already satisfied: pycparser in /usr/local/lib/python3.11/dist-packages (from cffi>=1.0->soundfile>=0.10.2->librosa==0.9.2) (2.22)\n",
            "Requirement already satisfied: charset-normalizer<4,>=2 in /usr/local/lib/python3.11/dist-packages (from requests>=2.19.0->pooch>=1.0->librosa==0.9.2) (3.4.1)\n",
            "Requirement already satisfied: idna<4,>=2.5 in /usr/local/lib/python3.11/dist-packages (from requests>=2.19.0->pooch>=1.0->librosa==0.9.2) (3.10)\n",
            "Requirement already satisfied: urllib3<3,>=1.21.1 in /usr/local/lib/python3.11/dist-packages (from requests>=2.19.0->pooch>=1.0->librosa==0.9.2) (2.3.0)\n",
            "Requirement already satisfied: certifi>=2017.4.17 in /usr/local/lib/python3.11/dist-packages (from requests>=2.19.0->pooch>=1.0->librosa==0.9.2) (2025.1.31)\n",
            "Downloading resampy-0.4.3-py3-none-any.whl (3.1 MB)\n",
            "\u001b[2K   \u001b[90m━━━━━━━━━━━━━━━━━━━━━━━━━━━━━━━━━━━━━━━━\u001b[0m \u001b[32m3.1/3.1 MB\u001b[0m \u001b[31m36.9 MB/s\u001b[0m eta \u001b[36m0:00:00\u001b[0m\n",
            "\u001b[?25hInstalling collected packages: resampy, librosa\n",
            "  Attempting uninstall: librosa\n",
            "    Found existing installation: librosa 0.11.0\n",
            "    Uninstalling librosa-0.11.0:\n",
            "      Successfully uninstalled librosa-0.11.0\n",
            "Successfully installed librosa-0.9.2 resampy-0.4.3\n",
            "Requirement already satisfied: accelerate in /usr/local/lib/python3.11/dist-packages (from -r requirements.txt (line 5)) (1.5.2)\n",
            "Collecting asteroid==0.7.0 (from -r requirements.txt (line 6))\n",
            "  Downloading asteroid-0.7.0-py3-none-any.whl.metadata (11 kB)\n",
            "Collecting audiomentations==0.24.0 (from -r requirements.txt (line 7))\n",
            "  Downloading audiomentations-0.24.0-py3-none-any.whl.metadata (35 kB)\n",
            "Collecting auraloss (from -r requirements.txt (line 8))\n",
            "  Downloading auraloss-0.4.0-py3-none-any.whl.metadata (8.0 kB)\n",
            "Collecting beartype==0.14.1 (from -r requirements.txt (line 9))\n",
            "  Downloading beartype-0.14.1-py3-none-any.whl.metadata (28 kB)\n",
            "Collecting bitsandbytes (from -r requirements.txt (line 10))\n",
            "  Downloading bitsandbytes-0.45.5-py3-none-manylinux_2_24_x86_64.whl.metadata (5.0 kB)\n",
            "Collecting colorama (from -r requirements.txt (line 11))\n",
            "  Downloading colorama-0.4.6-py2.py3-none-any.whl.metadata (17 kB)\n",
            "Collecting demucs==4.0.0 (from -r requirements.txt (line 12))\n",
            "  Downloading demucs-4.0.0.tar.gz (1.2 MB)\n",
            "\u001b[2K     \u001b[90m━━━━━━━━━━━━━━━━━━━━━━━━━━━━━━━━━━━━━━━━\u001b[0m \u001b[32m1.2/1.2 MB\u001b[0m \u001b[31m23.6 MB/s\u001b[0m eta \u001b[36m0:00:00\u001b[0m\n",
            "\u001b[?25h  Preparing metadata (setup.py) ... \u001b[?25l\u001b[?25hdone\n",
            "Collecting einops==0.6.1 (from -r requirements.txt (line 13))\n",
            "  Downloading einops-0.6.1-py3-none-any.whl.metadata (12 kB)\n",
            "Collecting fastapi==0.111.0 (from -r requirements.txt (line 14))\n",
            "  Downloading fastapi-0.111.0-py3-none-any.whl.metadata (25 kB)\n",
            "Collecting gradio==4.38.1 (from -r requirements.txt (line 15))\n",
            "  Downloading gradio-4.38.1-py3-none-any.whl.metadata (15 kB)\n",
            "Requirement already satisfied: huggingface-hub>=0.23.0 in /usr/local/lib/python3.11/dist-packages (from -r requirements.txt (line 16)) (0.30.2)\n",
            "Requirement already satisfied: librosa==0.9.2 in /usr/local/lib/python3.11/dist-packages (from -r requirements.txt (line 17)) (0.9.2)\n",
            "Collecting lightning>=2.0.0 (from -r requirements.txt (line 18))\n",
            "  Downloading lightning-2.5.1-py3-none-any.whl.metadata (39 kB)\n",
            "Collecting ml_collections (from -r requirements.txt (line 19))\n",
            "  Downloading ml_collections-1.1.0-py3-none-any.whl.metadata (22 kB)\n",
            "Collecting mido (from -r requirements.txt (line 20))\n",
            "  Downloading mido-1.3.3-py3-none-any.whl.metadata (6.4 kB)\n",
            "Collecting omegaconf==2.2.3 (from -r requirements.txt (line 21))\n",
            "  Downloading omegaconf-2.2.3-py3-none-any.whl.metadata (3.9 kB)\n",
            "Collecting pedalboard~=0.8.1 (from -r requirements.txt (line 22))\n",
            "  Downloading pedalboard-0.8.9-cp311-cp311-manylinux_2_17_x86_64.manylinux2014_x86_64.whl.metadata (16 kB)\n",
            "Collecting prodigyopt (from -r requirements.txt (line 23))\n",
            "  Downloading prodigyopt-1.1.2-py3-none-any.whl.metadata (4.8 kB)\n",
            "Collecting protobuf==3.20.3 (from -r requirements.txt (line 24))\n",
            "  Downloading protobuf-3.20.3-py2.py3-none-any.whl.metadata (720 bytes)\n",
            "Requirement already satisfied: psutil in /usr/local/lib/python3.11/dist-packages (from -r requirements.txt (line 25)) (5.9.5)\n",
            "Collecting rotary_embedding_torch==0.3.5 (from -r requirements.txt (line 26))\n",
            "  Downloading rotary_embedding_torch-0.3.5-py3-none-any.whl.metadata (678 bytes)\n",
            "Collecting samplerate (from -r requirements.txt (line 27))\n",
            "  Downloading samplerate-0.1.0-py2.py3-none-any.whl.metadata (3.2 kB)\n",
            "Requirement already satisfied: scipy in /usr/local/lib/python3.11/dist-packages (from -r requirements.txt (line 28)) (1.14.1)\n",
            "Collecting segmentation_models_pytorch==0.3.3 (from -r requirements.txt (line 29))\n",
            "  Downloading segmentation_models_pytorch-0.3.3-py3-none-any.whl.metadata (30 kB)\n",
            "Requirement already satisfied: soundfile in /usr/local/lib/python3.11/dist-packages (from -r requirements.txt (line 30)) (0.13.1)\n",
            "Collecting spafe==0.3.2 (from -r requirements.txt (line 31))\n",
            "  Downloading spafe-0.3.2-py3-none-any.whl.metadata (8.7 kB)\n",
            "Collecting timm==0.9.2 (from -r requirements.txt (line 32))\n",
            "  Downloading timm-0.9.2-py3-none-any.whl.metadata (68 kB)\n",
            "Collecting torch_audiomentations (from -r requirements.txt (line 33))\n",
            "  Downloading torch_audiomentations-0.12.0-py3-none-any.whl.metadata (15 kB)\n",
            "Collecting torch_log_wmse (from -r requirements.txt (line 34))\n",
            "  Downloading torch_log_wmse-0.3.0-py3-none-any.whl.metadata (7.4 kB)\n",
            "Collecting torchmetrics==0.11.4 (from -r requirements.txt (line 35))\n",
            "  Downloading torchmetrics-0.11.4-py3-none-any.whl.metadata (15 kB)\n",
            "Collecting torchseg (from -r requirements.txt (line 36))\n",
            "  Downloading torchseg-0.0.1a4-py3-none-any.whl.metadata (12 kB)\n",
            "Collecting transformers~=4.35.0 (from -r requirements.txt (line 37))\n",
            "  Downloading transformers-4.35.2-py3-none-any.whl.metadata (123 kB)\n",
            "Requirement already satisfied: tqdm in /usr/local/lib/python3.11/dist-packages (from -r requirements.txt (line 38)) (4.67.1)\n",
            "Collecting pydantic<2.11 (from -r requirements.txt (line 39))\n",
            "  Downloading pydantic-2.10.6-py3-none-any.whl.metadata (30 kB)\n",
            "Requirement already satisfied: numpy>=1.16.4 in /usr/local/lib/python3.11/dist-packages (from asteroid==0.7.0->-r requirements.txt (line 6)) (2.0.2)\n",
            "Requirement already satisfied: torch>=2.0.0 in /usr/local/lib/python3.11/dist-packages (from asteroid==0.7.0->-r requirements.txt (line 6)) (2.6.0+cu124)\n",
            "Collecting asteroid-filterbanks>=0.4.0 (from asteroid==0.7.0->-r requirements.txt (line 6))\n",
            "  Downloading asteroid_filterbanks-0.4.0-py3-none-any.whl.metadata (3.3 kB)\n",
            "Requirement already satisfied: PyYAML>=5.0 in /usr/local/lib/python3.11/dist-packages (from asteroid==0.7.0->-r requirements.txt (line 6)) (6.0.2)\n",
            "Requirement already satisfied: pandas>=0.23.4 in /usr/local/lib/python3.11/dist-packages (from asteroid==0.7.0->-r requirements.txt (line 6)) (2.2.2)\n",
            "Collecting pytorch-lightning>=2.0.0 (from asteroid==0.7.0->-r requirements.txt (line 6))\n",
            "  Downloading pytorch_lightning-2.5.1-py3-none-any.whl.metadata (20 kB)\n",
            "Requirement already satisfied: torchaudio>=0.5.0 in /usr/local/lib/python3.11/dist-packages (from asteroid==0.7.0->-r requirements.txt (line 6)) (2.6.0+cu124)\n",
            "Collecting pb-bss-eval>=0.0.2 (from asteroid==0.7.0->-r requirements.txt (line 6))\n",
            "  Downloading pb_bss_eval-0.0.2-py3-none-any.whl.metadata (3.1 kB)\n",
            "Collecting torch-stoi>=0.1.2 (from asteroid==0.7.0->-r requirements.txt (line 6))\n",
            "  Downloading torch_stoi-0.2.3-py3-none-any.whl.metadata (3.6 kB)\n",
            "Collecting torch-optimizer<0.2.0,>=0.0.1a12 (from asteroid==0.7.0->-r requirements.txt (line 6))\n",
            "  Downloading torch_optimizer-0.1.0-py3-none-any.whl.metadata (53 kB)\n",
            "Collecting julius (from asteroid==0.7.0->-r requirements.txt (line 6))\n",
            "  Downloading julius-0.2.7.tar.gz (59 kB)\n",
            "  Preparing metadata (setup.py) ... \u001b[?25l\u001b[?25hdone\n",
            "Collecting dora-search (from demucs==4.0.0->-r requirements.txt (line 12))\n",
            "  Downloading dora_search-0.1.12.tar.gz (87 kB)\n",
            "  Installing build dependencies ... \u001b[?25l\u001b[?25hdone\n",
            "  Getting requirements to build wheel ... \u001b[?25l\u001b[?25hdone\n",
            "  Preparing metadata (pyproject.toml) ... \u001b[?25l\u001b[?25hdone\n",
            "Collecting diffq>=0.2.1 (from demucs==4.0.0->-r requirements.txt (line 12))\n",
            "  Downloading diffq-0.2.4.tar.gz (157 kB)\n",
            "  Installing build dependencies ... \u001b[?25l\u001b[?25hdone\n",
            "  Getting requirements to build wheel ... \u001b[?25l\u001b[?25hdone\n"
          ]
        }
      ],
      "source": [
        "#@title Clone repository and install requirements\n",
        "#@markdown # Clone repository and install requirements\n",
        "#@markdown\n",
        "#@markdown ### You may need to rerun this cell for a few times\n",
        "#@markdown\n",
        "\n",
        "# Clone the repository\n",
        "%cd /content\n",
        "!git clone https://github.com/SUC-DriverOld/MSST-WebUI\n",
        "%cd /content/MSST-WebUI\n",
        "\n",
        "# Upgrade pip and setuptools\n",
        "%pip install --upgrade pip setuptools\n",
        "\n",
        "# Install requirements\n",
        "%pip install tools/webUI_for_clouds/librosa-0.9.2-py3-none-any.whl\n",
        "%pip install -r requirements.txt --only-binary=samplerate"
      ]
    },
    {
      "cell_type": "code",
      "execution_count": null,
      "metadata": {
        "id": "Aj-UJu7unsQe"
      },
      "outputs": [],
      "source": [
        "#@title [Optional] Download SOME weights if needed\n",
        "#@markdown # Download SOME weights if needed\n",
        "#@markdown\n",
        "#@markdown ### If you want to use \"Vocals to MIDI\", download the weights.\n",
        "#@markdown\n",
        "#@markdown ### \"Vocals to MIDI\" use project: [SOME](https://github.com/openvpi/SOME/).\n",
        "#@markdown\n",
        "\n",
        "!wget https://huggingface.co/Sucial/MSST-WebUI/resolve/main/SOME_weights/model_steps_64000_simplified.ckpt -O /content/MSST-WebUI/tools/SOME_weights/model_steps_64000_simplified.ckpt"
      ]
    },
    {
      "cell_type": "code",
      "execution_count": null,
      "metadata": {
        "id": "fP2a6ycjnsQf"
      },
      "outputs": [],
      "source": [
        "#@title [Optional] Pack and upload your music files to your google drive\n",
        "#@markdown # Pack and upload your music files to your google drive\n",
        "#@markdown\n",
        "#@markdown Ensure that there are no nested folders in your zip file, but rather direct audio files.\n",
        "#@markdown\n",
        "\n",
        "from google.colab import drive\n",
        "drive.mount(\"/content/drive\")\n",
        "#@markdown Directory where **your zip file** located in, dont miss the slash at the end.\n",
        "data_dir = \"/content/drive/MyDrive/MSST-WebUI/\"  #@param {type:\"string\"}\n",
        "#@markdown Filename of **your zip file**, for example: \"inputs.zip\"\n",
        "zip_filename = \"input.zip\"  #@param {type:\"string\"}\n",
        "ZIP_PATH = data_dir + zip_filename\n",
        "#@markdown You need to package the audio directly into a zip file, **DO NOT** nest folders in the zip file!\n",
        "#@markdown The compressed file will be extracted to the `input` directory. If there are files in your `input` directory, they will be deleted. Please backup in advance.\n",
        "#@markdown\n",
        "\n",
        "!rm -rf /content/MSST-WebUI/input\n",
        "!mkdir -p /content/MSST-WebUI/input\n",
        "!unzip -od /content/MSST-WebUI/input {ZIP_PATH}"
      ]
    },
    {
      "cell_type": "code",
      "execution_count": null,
      "metadata": {
        "id": "ckNu9ub-nsQg"
      },
      "outputs": [],
      "source": [
        "#@title [Optional] Save results to google drive\n",
        "#@markdown # Save results to google drive\n",
        "#@markdown\n",
        "#@markdown The results audio files in the output directory will be compressed into a zip file and saved to your google drive.\n",
        "#@markdown\n",
        "\n",
        "from google.colab import drive\n",
        "drive.mount(\"/content/drive\")\n",
        "#@markdown Path to save the zip file, dont miss the slash at the end.\n",
        "output_dir = \"/content/drive/MyDrive/MSST-WebUI/\"  #@param {type:\"string\"}\n",
        "#@markdown Filename of the zip file, for example: \"Outputs.zip\"\n",
        "zip_filename = \"Outputs.zip\"  #@param {type:\"string\"}\n",
        "ZIP_PATH = output_dir + zip_filename\n",
        "\n",
        "!mkdir -p {output_dir}\n",
        "!zip -r \"{zip_filename}\" /content/MSST-WebUI/results\n",
        "!cp -vr \"{zip_filename}\" {output_dir}"
      ]
    },
    {
      "cell_type": "code",
      "execution_count": null,
      "metadata": {
        "id": "qVUKKdIbnsQg"
      },
      "outputs": [],
      "source": [
        "#@title [Optional] Delete all result audio files\n",
        "#@markdown # Click to delete all result audio files\n",
        "#@markdown\n",
        "#@markdown ### Warning: Unrecoverable, please operate with caution\n",
        "#@markdown\n",
        "\n",
        "!rm -rf /content/MSST-WebUI/results\n",
        "!mkdir -p /content/MSST-WebUI/results"
      ]
    },
    {
      "cell_type": "code",
      "execution_count": null,
      "metadata": {
        "id": "7QPTeNn-nsQh"
      },
      "outputs": [],
      "source": [
        "#@title [Optional] Delete all input audio files\n",
        "#@markdown # Click to delete all input audio files\n",
        "#@markdown\n",
        "#@markdown ### Warning: Unrecoverable, please operate with caution\n",
        "#@markdown\n",
        "\n",
        "!rm -rf /content/MSST-WebUI/input\n",
        "!mkdir -p /content/MSST-WebUI/input"
      ]
    },
    {
      "cell_type": "code",
      "execution_count": null,
      "metadata": {
        "id": "8XzeFJ45nsQi"
      },
      "outputs": [],
      "source": [
        "#@title Initialize and start WebUI\n",
        "#@markdown # Initialize and start WebUI\n",
        "#@markdown\n",
        "#@markdown After running this cell, you can use your own device to connect to WebUI. The public link will be displayed below.\n",
        "#@markdown\n",
        "#@markdown If you want to modify the inference parameters of the preset process, edit the `data/webui_config.json` file.\n",
        "#@markdown\n",
        "\n",
        "%cd /content/MSST-WebUI\n",
        "\n",
        "LANGUAGE = \"English\" #@param [\"Auto\", \"English\", \"简体中文\", \"繁體中文\", \"日本語\", \"😊\", \"한국어\"]\n",
        "MODEL_DOWNLOAD_LINK = \"huggingface.co\" #@param [\"Auto\", \"huggingface.co\", \"hf-mirror.com\"]\n",
        "DEBUG = False #@param {type:\"boolean\"}\n",
        "\n",
        "language_dict = {\"Auto\": \"Auto\", \"简体中文\": \"zh_CN\", \"繁體中文\": \"zh_TW\", \"English\": \"en_US\", \"日本語\": \"ja_JP\", \"😊\": \"emoji\", \"한국어\": \"ko_KR\"}\n",
        "language = language_dict[LANGUAGE]\n",
        "debug = \"--debug\" if DEBUG else \"\"\n",
        "\n",
        "# Start WebUI\n",
        "!python webUI.py --use_cloud --share --language {language} --model_download_link {MODEL_DOWNLOAD_LINK} {debug}"
      ]
    }
  ],
  "metadata": {
    "language_info": {
      "name": "python"
    },
    "colab": {
      "provenance": [],
      "include_colab_link": true
    },
    "kernelspec": {
      "name": "python3",
      "display_name": "Python 3"
    }
  },
  "nbformat": 4,
  "nbformat_minor": 0
}